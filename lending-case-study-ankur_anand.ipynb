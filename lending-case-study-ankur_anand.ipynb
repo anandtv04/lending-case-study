{
 "cells": [
  {
   "cell_type": "markdown",
   "id": "0e3de346-e2ec-4843-9775-1c1305b45a1e",
   "metadata": {},
   "source": [
    "# 1. Prerequisite"
   ]
  },
  {
   "cell_type": "markdown",
   "id": "0835dbc0",
   "metadata": {},
   "source": [
    "1. Importing required packages\n",
    "2. Reading CSV and creating Data Frame\n",
    "3. Understand the Data Frame"
   ]
  },
  {
   "cell_type": "code",
   "execution_count": 36,
   "id": "b8ed7f48-64db-4ac0-99eb-a52eb4eba474",
   "metadata": {},
   "outputs": [],
   "source": [
    "#Importing Required packages\n",
    "import pandas as pd\n",
    "import numpy as np\n",
    "import matplotlib.pyplot as plt\n",
    "import seaborn as sns\n",
    "import warnings\n",
    "\n",
    "# Suppress warnings\n",
    "warnings.filterwarnings('ignore')\n",
    "pd.set_option(\"display.max_rows\", 50)"
   ]
  },
  {
   "cell_type": "code",
   "execution_count": 37,
   "id": "ab1f3afb-7b27-40f4-8d40-d8b1ecec7dba",
   "metadata": {},
   "outputs": [],
   "source": [
    "# Creating dataframe from CSV file\n",
    "loan = pd.read_csv(\"./loan/loan.csv\")"
   ]
  },
  {
   "cell_type": "code",
   "execution_count": null,
   "id": "10f9d078-0d79-43de-b479-3e4c7ee32107",
   "metadata": {},
   "outputs": [],
   "source": [
    "# Checking the data\n",
    "loan.head()"
   ]
  },
  {
   "cell_type": "code",
   "execution_count": null,
   "id": "b72f2135-28f4-4c5a-b5ac-a712f1609ae8",
   "metadata": {},
   "outputs": [],
   "source": [
    "# Understanding the shape of the DF\n",
    "loan.shape"
   ]
  },
  {
   "cell_type": "code",
   "execution_count": null,
   "id": "52124d5f-4999-42d3-b99d-1d3ef1929f83",
   "metadata": {},
   "outputs": [],
   "source": [
    "# Get the details of the data\n",
    "loan.info()"
   ]
  },
  {
   "cell_type": "markdown",
   "id": "23420239",
   "metadata": {},
   "source": [
    "# 2. Data Cleaning"
   ]
  },
  {
   "cell_type": "markdown",
   "id": "734d6001",
   "metadata": {},
   "source": [
    "1. Drop the columns if,\n",
    "    1. The missing values for that column is > 40%\n",
    "    2. The column having only one value (unique count is 1) \n",
    "    3. The percentage of unique values in a column is less than 2% (e.g. URL - all values are unique)\n",
    "2. Drop the rows,\n",
    "    1. We are considering only Closed and Chargged of loans. So remving the loan with status 'Current'."
   ]
  },
  {
   "cell_type": "code",
   "execution_count": null,
   "id": "bce7b436-6a71-4f17-8464-ed9fef1dc659",
   "metadata": {},
   "outputs": [],
   "source": [
    "# Find isnull values in dataset and get the percentage \n",
    "missing_values_percentage = loan.isnull().sum() / len(loan) * 100\n",
    "print(missing_values_percentage)"
   ]
  },
  {
   "cell_type": "code",
   "execution_count": null,
   "id": "12991388-f484-47af-b916-ba34bd94c7be",
   "metadata": {},
   "outputs": [],
   "source": [
    "# Get coloumns with more than 40% of data\n",
    "columns_with_missing_data = missing_values_percentage[missing_values_percentage > 40].index\n",
    "print(columns_with_missing_data)"
   ]
  },
  {
   "cell_type": "code",
   "execution_count": 43,
   "id": "b012e447-d151-4f5c-ac23-a986c8644139",
   "metadata": {},
   "outputs": [],
   "source": [
    "# Drop the columns with more than 40% of miss_dataing data\n",
    "loan_data = loan.drop(columns=columns_with_missing_data)"
   ]
  },
  {
   "cell_type": "code",
   "execution_count": null,
   "id": "846ce36b-b028-40bd-bebb-f97fedb1fbbb",
   "metadata": {},
   "outputs": [],
   "source": [
    "loan_data.shape"
   ]
  },
  {
   "cell_type": "code",
   "execution_count": null,
   "id": "456d9ae3-b5c3-4b8a-ae32-1859a0e46a75",
   "metadata": {},
   "outputs": [],
   "source": [
    "# Checking for the coloumns that still have some missing values\n",
    "missing_value = loan_data.isnull().sum() / len(loan_data) * 100\n",
    "find_missing_columns = missing_value[missing_value > 0]\n",
    "print(find_missing_columns)"
   ]
  },
  {
   "cell_type": "code",
   "execution_count": null,
   "id": "0733f016-104d-4450-8cd2-f4fd6f00f0ea",
   "metadata": {},
   "outputs": [],
   "source": [
    "# As we have reduce to 54 columns after data cleaning.\n",
    "# Now we will again check for the columns with the unique counts in them.\n",
    "unique_col = loan_data.nunique()\n",
    "print(unique_col)"
   ]
  },
  {
   "cell_type": "code",
   "execution_count": 47,
   "id": "6ced1a96-5485-4808-81b7-ccf0fd4c0b43",
   "metadata": {},
   "outputs": [],
   "source": [
    "# As per the above observation we got the columns with single unique value,\n",
    "# so it will not affect the analysis\n",
    "# remove the columns with unique count = 1\n",
    "uni_col = unique_col[unique_col.values == 1]\n",
    "unique_col_list = uni_col.index.tolist()\n",
    "loan_data.drop(columns=unique_col_list, inplace=True)"
   ]
  },
  {
   "cell_type": "code",
   "execution_count": null,
   "id": "b69dc420-fe89-4d58-aa1b-bc86ae79e677",
   "metadata": {},
   "outputs": [],
   "source": [
    "loan_data.shape"
   ]
  },
  {
   "cell_type": "code",
   "execution_count": null,
   "id": "d2614d8a-0a87-41d2-8f9f-32cc8a2f97a9",
   "metadata": {
    "scrolled": true
   },
   "outputs": [],
   "source": [
    "# Columns where the number of unique values is greater than 2% \n",
    "per_unique_value = loan_data.nunique()\n",
    "per_uni_col = per_unique_value[per_unique_value > len(loan_data)* .02]\n",
    "print(per_uni_col)"
   ]
  },
  {
   "cell_type": "code",
   "execution_count": 50,
   "id": "6a1271c3-478d-4eae-b263-96075d049da0",
   "metadata": {},
   "outputs": [],
   "source": [
    "cols_not_required = [\"url\", \"desc\", \"title\", \"emp_title\", \"zip_code\", \"out_prncp\", \"out_prncp_inv\", \"id\", \"member_id\"]\n",
    "loan_data.drop(columns=cols_not_required, inplace=True)"
   ]
  },
  {
   "cell_type": "code",
   "execution_count": null,
   "id": "3b05f898-f007-4442-9abc-654f5207fb6c",
   "metadata": {},
   "outputs": [],
   "source": [
    "loan_data.shape"
   ]
  },
  {
   "cell_type": "markdown",
   "id": "20a6778d-d31b-4203-82db-3bb6eb46d0d8",
   "metadata": {},
   "source": [
    "### 2.1. Data Preparation "
   ]
  },
  {
   "cell_type": "code",
   "execution_count": 52,
   "id": "7a502a7a-f11e-4d15-98a8-8de7e110e95a",
   "metadata": {},
   "outputs": [],
   "source": [
    "#Remove rows where the loan_status is current as current means in-porgress\n",
    "rows_to_drop = loan_data[loan_data['loan_status'] == \"Current\"].index\n",
    "loan_data.drop(rows_to_drop, inplace=True)"
   ]
  },
  {
   "cell_type": "code",
   "execution_count": null,
   "id": "23c60240-91dd-4f52-9d90-7f7da2c0078a",
   "metadata": {},
   "outputs": [],
   "source": [
    "loan_data.shape\n",
    "# loan_data.head()\n",
    "# loan_data.info()"
   ]
  },
  {
   "cell_type": "markdown",
   "id": "c0363489",
   "metadata": {},
   "source": [
    "# 3. Univariate Analysis"
   ]
  },
  {
   "cell_type": "code",
   "execution_count": null,
   "id": "fdacfd96-7882-4272-9fad-5e0434690de7",
   "metadata": {},
   "outputs": [],
   "source": []
  }
 ],
 "metadata": {
  "kernelspec": {
   "display_name": "base",
   "language": "python",
   "name": "python3"
  },
  "language_info": {
   "codemirror_mode": {
    "name": "ipython",
    "version": 3
   },
   "file_extension": ".py",
   "mimetype": "text/x-python",
   "name": "python",
   "nbconvert_exporter": "python",
   "pygments_lexer": "ipython3",
   "version": "3.12.4"
  }
 },
 "nbformat": 4,
 "nbformat_minor": 5
}
